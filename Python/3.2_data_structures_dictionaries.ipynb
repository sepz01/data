{
 "cells": [
  {
   "cell_type": "markdown",
   "source": [
    "## Data structures continued"
   ],
   "metadata": {}
  },
  {
   "cell_type": "markdown",
   "source": [
    "## Dictionaries "
   ],
   "metadata": {}
  },
  {
   "cell_type": "markdown",
   "source": [
    "Dictionaries are used to store data in key value pairs. You can think about the key in a dictionary as a key to a vault where the values are stored.   \n",
    "\n",
    "You can access the element/elements stored in the value by using the particular **key**.   \n",
    "\n",
    "**Curly braces** are used to define a dictionary. \n",
    "\n",
    "Different **key-value pairs are separated by commas**.\n",
    "\n",
    "<!-- We store the data behind the scenes in a hash map. This means that we use the key to generate a unique index (called a hash) and store the value in the location marked by that index. This makes retrieval very fast. -->"
   ],
   "metadata": {}
  },
  {
   "cell_type": "code",
   "execution_count": 1,
   "source": [
    "contacts = {'John': '312-555-1234', 'Paul': '312-555-3123', 'George': '312-555-3333', 'Ringo': '312-555-2222'}"
   ],
   "outputs": [],
   "metadata": {}
  },
  {
   "cell_type": "code",
   "execution_count": 2,
   "source": [
    "type(contacts)"
   ],
   "outputs": [
    {
     "output_type": "execute_result",
     "data": {
      "text/plain": [
       "dict"
      ]
     },
     "metadata": {},
     "execution_count": 2
    }
   ],
   "metadata": {}
  },
  {
   "cell_type": "markdown",
   "source": [
    "Here we have defined a dictionary and we saved it in a variable named `contacts`.  \n",
    "\n",
    "A key-value pair is defined using a colon **`:`** - `key : value`.\n",
    "\n",
    "Different key value pairs here are: \n",
    "- \"John\" : \"312-555-1234\"\n",
    "- \"Paul\" : \"312-555-3123\" \n",
    "- \"George\" : \"312-555-3333\" \n",
    "- \"Ringo\" : \"312-555-2222\"\n",
    "\n",
    "All the **keys** in a dictionary **are always unique**, the *values can be repeated*."
   ],
   "metadata": {}
  },
  {
   "cell_type": "markdown",
   "source": [
    "### Accessing values using the keys"
   ],
   "metadata": {}
  },
  {
   "cell_type": "code",
   "execution_count": 3,
   "source": [
    "contacts['John']  # This is very similar to lists except that here we are using keys as indexes"
   ],
   "outputs": [
    {
     "output_type": "execute_result",
     "data": {
      "text/plain": [
       "'312-555-1234'"
      ]
     },
     "metadata": {},
     "execution_count": 3
    }
   ],
   "metadata": {}
  },
  {
   "cell_type": "code",
   "execution_count": 4,
   "source": [
    "contacts['Paul']"
   ],
   "outputs": [
    {
     "output_type": "execute_result",
     "data": {
      "text/plain": [
       "'312-555-3123'"
      ]
     },
     "metadata": {},
     "execution_count": 4
    }
   ],
   "metadata": {}
  },
  {
   "cell_type": "markdown",
   "source": [
    "**Note:** The keys are case sensitive. For eg. if you use the following code, it will produce an error as shown:"
   ],
   "metadata": {}
  },
  {
   "cell_type": "code",
   "execution_count": 5,
   "source": [
    "contacts['PAUL']"
   ],
   "outputs": [
    {
     "output_type": "error",
     "ename": "KeyError",
     "evalue": "'PAUL'",
     "traceback": [
      "\u001b[0;31m---------------------------------------------------------------------------\u001b[0m",
      "\u001b[0;31mKeyError\u001b[0m                                  Traceback (most recent call last)",
      "\u001b[0;32m<ipython-input-5-72754c72acff>\u001b[0m in \u001b[0;36m<module>\u001b[0;34m\u001b[0m\n\u001b[0;32m----> 1\u001b[0;31m \u001b[0mcontacts\u001b[0m\u001b[0;34m[\u001b[0m\u001b[0;34m'PAUL'\u001b[0m\u001b[0;34m]\u001b[0m\u001b[0;34m\u001b[0m\u001b[0;34m\u001b[0m\u001b[0m\n\u001b[0m",
      "\u001b[0;31mKeyError\u001b[0m: 'PAUL'"
     ]
    }
   ],
   "metadata": {}
  },
  {
   "cell_type": "markdown",
   "source": [
    "Check which keys are there in the dictionary using **`.keys()`** method."
   ],
   "metadata": {}
  },
  {
   "cell_type": "code",
   "execution_count": 7,
   "source": [
    "contacts.keys()"
   ],
   "outputs": [
    {
     "output_type": "execute_result",
     "data": {
      "text/plain": [
       "dict_keys(['John', 'Paul', 'George', 'Ringo'])"
      ]
     },
     "metadata": {},
     "execution_count": 7
    }
   ],
   "metadata": {}
  },
  {
   "cell_type": "markdown",
   "source": [
    "Similarly we can also check the values in the dictionary using **`.values()`** mehod."
   ],
   "metadata": {}
  },
  {
   "cell_type": "code",
   "execution_count": 8,
   "source": [
    "contacts.values()  # But this directly does not tell us to which keys are these values associated "
   ],
   "outputs": [
    {
     "output_type": "execute_result",
     "data": {
      "text/plain": [
       "dict_values(['312-555-1234', '312-555-3123', '312-555-3333', '312-555-2222'])"
      ]
     },
     "metadata": {},
     "execution_count": 8
    }
   ],
   "metadata": {}
  },
  {
   "cell_type": "markdown",
   "source": [
    "If you closely observe, the values in the above result are stored in square brackets. Hence, we can say that \n",
    "`contacts.values()` returns the output as a list."
   ],
   "metadata": {}
  },
  {
   "cell_type": "markdown",
   "source": [
    "### Add new elements to a dictionary"
   ],
   "metadata": {}
  },
  {
   "cell_type": "markdown",
   "source": [
    "To add new key-value pair in a dictionary, we use a very simple syntax.\n",
    "\n",
    "You have to give the name of the key in square brackets and then assign value to it:\n",
    "\n",
    "`<Name of dictionary>[<key>] = value`"
   ],
   "metadata": {}
  },
  {
   "cell_type": "code",
   "execution_count": 9,
   "source": [
    "contacts['Himanshu'] = '480-111-2222'  \n",
    "# It is important that the key has to be unique "
   ],
   "outputs": [],
   "metadata": {}
  },
  {
   "cell_type": "markdown",
   "source": [
    "In the previous example, the keys and values stored in the dictionary were only strings. But we can have any\n",
    "kind of data type for the keys and values."
   ],
   "metadata": {}
  },
  {
   "cell_type": "code",
   "execution_count": 10,
   "source": [
    "student_names = {1: 'John', 2: 'Smith', 3: 'Matt', 4: 'Jimmy', 5: 'Sue'}\n",
    "student_names[1]"
   ],
   "outputs": [
    {
     "output_type": "execute_result",
     "data": {
      "text/plain": [
       "'John'"
      ]
     },
     "metadata": {},
     "execution_count": 10
    }
   ],
   "metadata": {}
  },
  {
   "cell_type": "code",
   "execution_count": 11,
   "source": [
    "student_names[2]"
   ],
   "outputs": [
    {
     "output_type": "execute_result",
     "data": {
      "text/plain": [
       "'Smith'"
      ]
     },
     "metadata": {},
     "execution_count": 11
    }
   ],
   "metadata": {}
  },
  {
   "cell_type": "markdown",
   "source": [
    "The main idea here is that the values are identified in a dictionary using the keys. "
   ],
   "metadata": {}
  },
  {
   "cell_type": "markdown",
   "source": [
    "Python is really powerful in the sense that it provides user the flexibility to create more complicated data structures. \n",
    "\n",
    "Values inside a dictionary can be lists or dictionaries itself (we call them *nested* dictionaries). We will look at some of those examples."
   ],
   "metadata": {}
  },
  {
   "cell_type": "code",
   "execution_count": 13,
   "source": [
    "student_data = {\n",
    "    'Name': 'Himanshu', \n",
    "    'E-mail': 'himanshuagg@gmail.com', \n",
    "    'Age': 28, \n",
    "    'subjects': ['math', 'science', 'history', 'geography'] \n",
    "}"
   ],
   "outputs": [],
   "metadata": {}
  },
  {
   "cell_type": "code",
   "execution_count": 14,
   "source": [
    "student_data.keys()"
   ],
   "outputs": [
    {
     "output_type": "execute_result",
     "data": {
      "text/plain": [
       "dict_keys(['Name', 'E-mail', 'Age', 'subjects'])"
      ]
     },
     "metadata": {},
     "execution_count": 14
    }
   ],
   "metadata": {}
  },
  {
   "cell_type": "code",
   "execution_count": 15,
   "source": [
    "# We will again emphasize here that the keys are case sensitive "
   ],
   "outputs": [],
   "metadata": {}
  },
  {
   "cell_type": "code",
   "execution_count": 16,
   "source": [
    "student_data['Name']"
   ],
   "outputs": [
    {
     "output_type": "execute_result",
     "data": {
      "text/plain": [
       "'Himanshu'"
      ]
     },
     "metadata": {},
     "execution_count": 16
    }
   ],
   "metadata": {}
  },
  {
   "cell_type": "code",
   "execution_count": 17,
   "source": [
    "student_data['E-mail']"
   ],
   "outputs": [
    {
     "output_type": "execute_result",
     "data": {
      "text/plain": [
       "'himanshuagg@gmail.com'"
      ]
     },
     "metadata": {},
     "execution_count": 17
    }
   ],
   "metadata": {}
  },
  {
   "cell_type": "code",
   "execution_count": 18,
   "source": [
    "student_data['Age']"
   ],
   "outputs": [
    {
     "output_type": "execute_result",
     "data": {
      "text/plain": [
       "28"
      ]
     },
     "metadata": {},
     "execution_count": 18
    }
   ],
   "metadata": {}
  },
  {
   "cell_type": "code",
   "execution_count": 19,
   "source": [
    "student_data['subjects']"
   ],
   "outputs": [
    {
     "output_type": "execute_result",
     "data": {
      "text/plain": [
       "['math', 'science', 'history', 'geography']"
      ]
     },
     "metadata": {},
     "execution_count": 19
    }
   ],
   "metadata": {}
  },
  {
   "cell_type": "markdown",
   "source": [
    "**Note**: Value associated with the key 'subjects' is a list. The key uniquely identifies the value linked with the key, in this case a list. "
   ],
   "metadata": {}
  },
  {
   "cell_type": "markdown",
   "source": [
    "According to this, if we want to access 'science', we need first to access the `subjects` key in the dictionary. Then, as the `value` is a list, we need to use the corresponding element of the list."
   ],
   "metadata": {}
  },
  {
   "cell_type": "code",
   "execution_count": 20,
   "source": [
    "student_data['subjects'][1]"
   ],
   "outputs": [
    {
     "output_type": "execute_result",
     "data": {
      "text/plain": [
       "'science'"
      ]
     },
     "metadata": {},
     "execution_count": 20
    }
   ],
   "metadata": {}
  },
  {
   "cell_type": "markdown",
   "source": [
    "### Exercises"
   ],
   "metadata": {}
  },
  {
   "cell_type": "markdown",
   "source": [
    "1. Use the dictionary given below. This is a dictionary that shows the frequency of the words in a text paragraph. The keys are the words, and the values are its frequency.\n"
   ],
   "metadata": {}
  },
  {
   "cell_type": "code",
   "execution_count": 21,
   "source": [
    "word_freq = {'love': 25, 'conversation': 1, 'every': 6, \"we're\": 1, 'plate': 1, 'sour': 1, 'jukebox': 1, 'now': 11, 'taxi': 1, 'fast': 1, 'bag': 1, 'man': 1, 'push': 3, 'baby': 14, 'going': 1, 'you': 16, \"don't\": 2, 'one': 1, 'mind': 2, 'backseat': 1, 'friends': 1, 'then': 3, 'know': 2}"
   ],
   "outputs": [],
   "metadata": {}
  },
  {
   "cell_type": "markdown",
   "source": [
    "Answer the following questions:   \n",
    "\n",
    "- How many *key-value* pairs are in this dictionary?\n",
    "- What *keys* are present in this dictionary? \n",
    "- What is the frequency of following words in the dictionary: \n",
    "    - 'friends'\n",
    "    - 'taxi' \n",
    "    - 'jukebox'\n",
    "- Is the word `begin` present in the dictionary?\n",
    "- Add the following words and their frequencies to the dictionary:\n",
    "        - 'begin': 1\n",
    "        - 'start': 2\n",
    "        - 'over': 1\n",
    "        - 'body': 17\n",
    "- Use the following code to convert the result from `word_freq.keys()` to a list: `list(word_freq.keys())`.\n",
    "  - Store the results of the above code in a variable called `word`.\n",
    "  - What is the first word in the dictionary? What is the frequency of that word?\n",
    "  - What is the last word in the dictionary? What is the frequency of that word?"
   ],
   "metadata": {}
  },
  {
   "cell_type": "code",
   "execution_count": 22,
   "source": [
    "# your answer here"
   ],
   "outputs": [],
   "metadata": {}
  },
  {
   "cell_type": "markdown",
   "source": [
    "2. Can a dictionary have two key-value pairs with the same key?"
   ],
   "metadata": {}
  },
  {
   "cell_type": "code",
   "execution_count": 23,
   "source": [
    "# your answer here"
   ],
   "outputs": [],
   "metadata": {}
  },
  {
   "cell_type": "markdown",
   "source": [
    "3. Can a dictionary have two key-value pairs with the same value but different keys?"
   ],
   "metadata": {}
  },
  {
   "cell_type": "code",
   "execution_count": 24,
   "source": [
    "# your answer here"
   ],
   "outputs": [],
   "metadata": {}
  },
  {
   "cell_type": "markdown",
   "source": [
    "# Additional Content: Nested Dictionaries "
   ],
   "metadata": {}
  },
  {
   "cell_type": "markdown",
   "source": [
    "Students will not be assesed on this. "
   ],
   "metadata": {}
  },
  {
   "cell_type": "code",
   "execution_count": 25,
   "source": [
    "contacts = {1: {'Name' : 'John' , 'Phone':'312-555-1234'},\n",
    "            2: {'Name' : 'Paul' , 'Phone':'312-555-3123'},\n",
    "            3: {'Name' : 'George' , 'Phone':'312-555-3333'},\n",
    "            4: {'Name' : 'Ringo' , 'Phone':'312-555-2222'}}"
   ],
   "outputs": [],
   "metadata": {}
  },
  {
   "cell_type": "code",
   "execution_count": 26,
   "source": [
    "# In this case we have a dictionary as the values associated with the keys here. \n",
    "type(contacts)"
   ],
   "outputs": [
    {
     "output_type": "execute_result",
     "data": {
      "text/plain": [
       "dict"
      ]
     },
     "metadata": {},
     "execution_count": 26
    }
   ],
   "metadata": {}
  },
  {
   "cell_type": "code",
   "execution_count": 27,
   "source": [
    "contacts"
   ],
   "outputs": [
    {
     "output_type": "execute_result",
     "data": {
      "text/plain": [
       "{1: {'Name': 'John', 'Phone': '312-555-1234'},\n",
       " 2: {'Name': 'Paul', 'Phone': '312-555-3123'},\n",
       " 3: {'Name': 'George', 'Phone': '312-555-3333'},\n",
       " 4: {'Name': 'Ringo', 'Phone': '312-555-2222'}}"
      ]
     },
     "metadata": {},
     "execution_count": 27
    }
   ],
   "metadata": {}
  },
  {
   "cell_type": "code",
   "execution_count": 28,
   "source": [
    "contacts.keys()"
   ],
   "outputs": [
    {
     "output_type": "execute_result",
     "data": {
      "text/plain": [
       "dict_keys([1, 2, 3, 4])"
      ]
     },
     "metadata": {},
     "execution_count": 28
    }
   ],
   "metadata": {}
  },
  {
   "cell_type": "code",
   "execution_count": 29,
   "source": [
    "contacts.values()"
   ],
   "outputs": [
    {
     "output_type": "execute_result",
     "data": {
      "text/plain": [
       "dict_values([{'Name': 'John', 'Phone': '312-555-1234'}, {'Name': 'Paul', 'Phone': '312-555-3123'}, {'Name': 'George', 'Phone': '312-555-3333'}, {'Name': 'Ringo', 'Phone': '312-555-2222'}])"
      ]
     },
     "metadata": {},
     "execution_count": 29
    }
   ],
   "metadata": {}
  },
  {
   "cell_type": "code",
   "execution_count": 30,
   "source": [
    "print(contacts[1])"
   ],
   "outputs": [
    {
     "output_type": "stream",
     "name": "stdout",
     "text": [
      "{'Name': 'John', 'Phone': '312-555-1234'}\n"
     ]
    }
   ],
   "metadata": {}
  },
  {
   "cell_type": "markdown",
   "source": [
    "As you can see, the `keys` of a dictionary can be either:\n",
    "\n",
    "- strings \n",
    "- numbers\n",
    "\n",
    "In this above example, the dictionary `keys` which are numbers. In this particular case, the `values` are also dictionaries."
   ],
   "metadata": {}
  },
  {
   "cell_type": "code",
   "execution_count": 31,
   "source": [
    "contacts[1].keys()"
   ],
   "outputs": [
    {
     "output_type": "execute_result",
     "data": {
      "text/plain": [
       "dict_keys(['Name', 'Phone'])"
      ]
     },
     "metadata": {},
     "execution_count": 31
    }
   ],
   "metadata": {}
  },
  {
   "cell_type": "code",
   "execution_count": 32,
   "source": [
    "contacts[1].values()"
   ],
   "outputs": [
    {
     "output_type": "execute_result",
     "data": {
      "text/plain": [
       "dict_values(['John', '312-555-1234'])"
      ]
     },
     "metadata": {},
     "execution_count": 32
    }
   ],
   "metadata": {}
  },
  {
   "cell_type": "code",
   "execution_count": 33,
   "source": [
    "contacts[1]['Name']"
   ],
   "outputs": [
    {
     "output_type": "execute_result",
     "data": {
      "text/plain": [
       "'John'"
      ]
     },
     "metadata": {},
     "execution_count": 33
    }
   ],
   "metadata": {}
  },
  {
   "cell_type": "code",
   "execution_count": 34,
   "source": [
    "contacts[1]['Phone']"
   ],
   "outputs": [
    {
     "output_type": "execute_result",
     "data": {
      "text/plain": [
       "'312-555-1234'"
      ]
     },
     "metadata": {},
     "execution_count": 34
    }
   ],
   "metadata": {}
  },
  {
   "cell_type": "markdown",
   "source": [
    "You can also have lists in which each element is a dictionary. Therefore the amount of possible combinations and levels of nesting is endless."
   ],
   "metadata": {}
  },
  {
   "cell_type": "code",
   "execution_count": 35,
   "source": [
    "my_data = [{'Mike': [25,23000],'Jane': [38, 40000],'Bill': [45,35000]},{'Developers': ['Mike','Bill']},{'HR': ['Jane']}]\n",
    "my_data"
   ],
   "outputs": [
    {
     "output_type": "execute_result",
     "data": {
      "text/plain": [
       "[{'Mike': [25, 23000], 'Jane': [38, 40000], 'Bill': [45, 35000]},\n",
       " {'Developers': ['Mike', 'Bill']},\n",
       " {'HR': ['Jane']}]"
      ]
     },
     "metadata": {},
     "execution_count": 35
    }
   ],
   "metadata": {}
  },
  {
   "cell_type": "markdown",
   "source": [
    "This is an example of a very nested list with three elements, each of them being a dictionary. In such cases, it is very important to know what you have in your hands. What type of variable is `my_data`?"
   ],
   "metadata": {}
  },
  {
   "cell_type": "code",
   "execution_count": 36,
   "source": [
    "type(my_data)"
   ],
   "outputs": [
    {
     "output_type": "execute_result",
     "data": {
      "text/plain": [
       "list"
      ]
     },
     "metadata": {},
     "execution_count": 36
    }
   ],
   "metadata": {}
  },
  {
   "cell_type": "markdown",
   "source": [
    "Then let's access the first element of the list. As this is a **list**, we need to access by **index**."
   ],
   "metadata": {}
  },
  {
   "cell_type": "code",
   "execution_count": 37,
   "source": [
    "my_data[0]"
   ],
   "outputs": [
    {
     "output_type": "execute_result",
     "data": {
      "text/plain": [
       "{'Mike': [25, 23000], 'Jane': [38, 40000], 'Bill': [45, 35000]}"
      ]
     },
     "metadata": {},
     "execution_count": 37
    }
   ],
   "metadata": {}
  },
  {
   "cell_type": "markdown",
   "source": [
    "This element is a dictionary as it can be clearly seen. In case of doubt we can use the function `type()`."
   ],
   "metadata": {}
  },
  {
   "cell_type": "code",
   "execution_count": 38,
   "source": [
    "type(my_data[0])"
   ],
   "outputs": [
    {
     "output_type": "execute_result",
     "data": {
      "text/plain": [
       "dict"
      ]
     },
     "metadata": {},
     "execution_count": 38
    }
   ],
   "metadata": {}
  },
  {
   "cell_type": "markdown",
   "source": [
    "Then let's access the data of 'Jane'. As this element is a **dictionary** we need to access by **key**."
   ],
   "metadata": {}
  },
  {
   "cell_type": "code",
   "execution_count": 39,
   "source": [
    "my_data[0]['Jane']"
   ],
   "outputs": [
    {
     "output_type": "execute_result",
     "data": {
      "text/plain": [
       "[38, 40000]"
      ]
     },
     "metadata": {},
     "execution_count": 39
    }
   ],
   "metadata": {}
  },
  {
   "cell_type": "markdown",
   "source": [
    "In return, we are getting another **list**. To access the last element of this **list**, we need to access it by **index**."
   ],
   "metadata": {}
  },
  {
   "cell_type": "code",
   "execution_count": 40,
   "source": [
    "my_data[0]['Jane'][1]"
   ],
   "outputs": [
    {
     "output_type": "execute_result",
     "data": {
      "text/plain": [
       "40000"
      ]
     },
     "metadata": {},
     "execution_count": 40
    }
   ],
   "metadata": {}
  },
  {
   "cell_type": "markdown",
   "source": [
    "## Summary"
   ],
   "metadata": {}
  },
  {
   "cell_type": "markdown",
   "source": [
    "It is always crucial to know what kind of variable you have in your hands because this determines how to retrieve the data. \n",
    "\n",
    "- lists -> accessed by **index**\n",
    "- dictionaries -> accessed by **key** (misleadingly, the key can be a number but usually is a string)\n",
    "\n",
    "Lists are easily identified because they start and end with square brackets: `[ ]`\n",
    "\n",
    "In contrast, dictionaries start and end with curly brackets: `{ }`."
   ],
   "metadata": {}
  }
 ],
 "metadata": {
  "kernelspec": {
   "display_name": "Python 3",
   "language": "python",
   "name": "python3"
  },
  "language_info": {
   "codemirror_mode": {
    "name": "ipython",
    "version": 3
   },
   "file_extension": ".py",
   "mimetype": "text/x-python",
   "name": "python",
   "nbconvert_exporter": "python",
   "pygments_lexer": "ipython3",
   "version": "3.8.8"
  }
 },
 "nbformat": 4,
 "nbformat_minor": 2
}